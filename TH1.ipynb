{
 "cells": [
  {
   "cell_type": "code",
   "execution_count": 1,
   "id": "58e6d10a-6787-49a9-ac44-be3158d2dee0",
   "metadata": {},
   "outputs": [
    {
     "name": "stdout",
     "output_type": "stream",
     "text": [
      "5\n"
     ]
    }
   ],
   "source": [
    "#W2A1\n",
    "print(\"Hello World!\")"
   ]
  },
  {
   "cell_type": "code",
   "execution_count": 40,
   "id": "c2dbcc1c-74fc-47dd-83b8-38cdeaff9f6b",
   "metadata": {
    "jp-MarkdownHeadingCollapsed": true
   },
   "outputs": [
    {
     "name": "stdin",
     "output_type": "stream",
     "text": [
      "Ten ban la gi:  i\n"
     ]
    },
    {
     "name": "stdout",
     "output_type": "stream",
     "text": [
      "Hello i\n"
     ]
    }
   ],
   "source": [
    "# W2A2\n",
    "a= str(input(\"Ten ban la gi: \"))\n",
    "print(\"Hello \" + a)"
   ]
  },
  {
   "cell_type": "code",
   "execution_count": 3,
   "id": "5c6af6cd-a4db-4411-9b94-0019a32e153c",
   "metadata": {
    "scrolled": true
   },
   "outputs": [
    {
     "name": "stdin",
     "output_type": "stream",
     "text": [
      " 2\n",
      " 5\n"
     ]
    },
    {
     "name": "stdout",
     "output_type": "stream",
     "text": [
      "7.0 -3.0 10.0 2.0 2 5 0.0 0.0\n"
     ]
    }
   ],
   "source": [
    "#W2A3\n",
    "a =float(input())\n",
    "b= float(input())\n",
    "print ( a+b, a-b, a*b, a%b, int(a), int(b), a-int(a), b-int(b))"
   ]
  },
  {
   "cell_type": "code",
   "execution_count": 19,
   "id": "4b626d4f-113f-4c0c-a8eb-64abb2d91669",
   "metadata": {},
   "outputs": [
    {
     "name": "stdin",
     "output_type": "stream",
     "text": [
      " 10 10 10 10 10 10\n"
     ]
    },
    {
     "name": "stdout",
     "output_type": "stream",
     "text": [
      "6\n",
      "10.0\n"
     ]
    }
   ],
   "source": [
    "#W2A4\n",
    "a = inputs = [int(i) for i in input().split()]\n",
    "diem = 0\n",
    "print(len(a))\n",
    "for i in range(0,len(a),1):\n",
    "    if i<3:\n",
    "        diem = diem + a[i]\n",
    "    elif (3<= i <5):\n",
    "        diem = diem+ a[i]*2\n",
    "    else: \n",
    "        diem= diem + a[i]*3\n",
    "\n",
    "print (round(diem/10,1))\n",
    "        \n",
    "    "
   ]
  },
  {
   "cell_type": "code",
   "execution_count": null,
   "id": "0d95e957-7357-470d-9844-97758adf0792",
   "metadata": {},
   "outputs": [],
   "source": [
    "#W2A5\n",
    "a = int(input())\n",
    "b= int(input())\n",
    "print (a**b)"
   ]
  },
  {
   "cell_type": "code",
   "execution_count": 12,
   "id": "85e26c56-eada-4377-aa73-189ae8e41c4d",
   "metadata": {},
   "outputs": [
    {
     "name": "stdin",
     "output_type": "stream",
     "text": [
      " a\n"
     ]
    },
    {
     "name": "stdout",
     "output_type": "stream",
     "text": [
      "97 A\n"
     ]
    }
   ],
   "source": [
    "#W2A6\n",
    "a= str(input())\n",
    "print(ord(a), a.upper())"
   ]
  },
  {
   "cell_type": "code",
   "execution_count": null,
   "id": "33b8305f-59f9-4457-8ec3-021ea9defcf5",
   "metadata": {},
   "outputs": [],
   "source": [
    "#W2A7\n",
    "print(((13 ** 2) * 3) + 5 , 13**2*3 + 5)"
   ]
  },
  {
   "cell_type": "code",
   "execution_count": 41,
   "id": "fbd4afe8-ece9-4e69-920b-50e4f8948bea",
   "metadata": {},
   "outputs": [
    {
     "name": "stdin",
     "output_type": "stream",
     "text": [
      " 18\n"
     ]
    },
    {
     "name": "stdout",
     "output_type": "stream",
     "text": [
      "64.4\n"
     ]
    }
   ],
   "source": [
    "#W2A8\n",
    "a= int(input())\n",
    "print ( 9/5*a +32)"
   ]
  },
  {
   "cell_type": "code",
   "execution_count": 2,
   "id": "f4696aef-8c77-4191-b416-97dd3cfc6e25",
   "metadata": {},
   "outputs": [
    {
     "name": "stdin",
     "output_type": "stream",
     "text": [
      " 4\n"
     ]
    },
    {
     "name": "stdout",
     "output_type": "stream",
     "text": [
      "6 2\n"
     ]
    }
   ],
   "source": [
    "#W2A9\n",
    "a= int(input())\n",
    "print(round(a+a*0.3+a*0.1),2)"
   ]
  },
  {
   "cell_type": "code",
   "execution_count": 31,
   "id": "b41cb17d-fb2b-42d5-b59b-ad451110ec66",
   "metadata": {},
   "outputs": [
    {
     "name": "stdin",
     "output_type": "stream",
     "text": [
      " Bob Alice Helen\n"
     ]
    },
    {
     "name": "stdout",
     "output_type": "stream",
     "text": [
      "Hi Helen Alice Bob\n"
     ]
    }
   ],
   "source": [
    "# #W2A10\n",
    "# a,b,c= map(str, input().split())\n",
    "# print (\"Hi \" +c+\" \"+b + \"and\" + a)\n",
    "\n",
    "\n",
    "a = [str(i) for i in input().split()]\n",
    "for i in range (0, len(a),1):\n",
    "    print "
   ]
  },
  {
   "cell_type": "code",
   "execution_count": null,
   "id": "9c49648d-2a85-400a-a45e-2da95c9fa6ba",
   "metadata": {},
   "outputs": [],
   "source": [
    "#W2A11\n",
    "a,b = map(int, input().split())\n",
    "print ( a*3600 + b*60)"
   ]
  },
  {
   "cell_type": "code",
   "execution_count": 39,
   "id": "ac87d5ad-815a-4848-9530-cf2eca37c213",
   "metadata": {},
   "outputs": [
    {
     "name": "stdin",
     "output_type": "stream",
     "text": [
      " 3\n"
     ]
    },
    {
     "name": "stdout",
     "output_type": "stream",
     "text": [
      "54\n"
     ]
    }
   ],
   "source": [
    "#2A12\n",
    "a= int(input())\n",
    "print(6* (a**2))"
   ]
  },
  {
   "cell_type": "code",
   "execution_count": null,
   "id": "f736b71f-ff01-4f94-a087-d740df8b756d",
   "metadata": {},
   "outputs": [],
   "source": [
    "#W2A13\n",
    "a,b = map(float,input().split())\n",
    "print (int(a*b))"
   ]
  },
  {
   "cell_type": "code",
   "execution_count": 43,
   "id": "c8b39cb2-80c9-4092-92ad-d6333a3270e0",
   "metadata": {},
   "outputs": [
    {
     "name": "stdin",
     "output_type": "stream",
     "text": [
      " 2 3\n"
     ]
    },
    {
     "name": "stdout",
     "output_type": "stream",
     "text": [
      "3 2\n"
     ]
    }
   ],
   "source": [
    "#W2A14\n",
    "a,b= map(int,input().split())\n",
    "a,b=b,a\n",
    "print(a,b)"
   ]
  },
  {
   "cell_type": "code",
   "execution_count": null,
   "id": "8d8d1864-49c6-4bea-b6f3-1f4f20727c38",
   "metadata": {},
   "outputs": [],
   "source": [
    "#W2A15\n"
   ]
  },
  {
   "cell_type": "code",
   "execution_count": null,
   "id": "7dea8143-1b13-441f-af71-67db5bca6c53",
   "metadata": {},
   "outputs": [],
   "source": [
    "#W2A16\n",
    "print(\"\"\"Spring\n",
    "Summer\n",
    "Autumn\n",
    "Winter\"\"\")"
   ]
  },
  {
   "cell_type": "code",
   "execution_count": 33,
   "id": "42462c51-6836-48a7-b0fc-d2bb1a4af75c",
   "metadata": {},
   "outputs": [
    {
     "name": "stdout",
     "output_type": "stream",
     "text": [
      "*\n",
      "***\n",
      "*****\n"
     ]
    }
   ],
   "source": [
    "#W2A17\n",
    "print(\"\"\"*\n",
    "***\n",
    "*****\"\"\")"
   ]
  },
  {
   "cell_type": "code",
   "execution_count": 27,
   "id": "ce1f09ed-ad36-4618-8507-e136acf26f48",
   "metadata": {},
   "outputs": [
    {
     "name": "stdout",
     "output_type": "stream",
     "text": [
      "\n",
      "### # # ### ###\n",
      "# # # # #\n",
      "# # # # #\n",
      "# # # # #\n",
      "# # # # #\n"
     ]
    }
   ],
   "source": [
    "#W2A18\n",
    "print(\"\"\"\n",
    "### # # ### ###\n",
    "# # # # #\n",
    "# # # # #\n",
    "# # # # #\n",
    "# # # # #\"\"\")"
   ]
  },
  {
   "cell_type": "code",
   "execution_count": 32,
   "id": "6bee1967-47e8-4045-b601-3637a6ba16af",
   "metadata": {},
   "outputs": [
    {
     "name": "stdout",
     "output_type": "stream",
     "text": [
      "Monday\n",
      "Tuesday\n",
      "Wednesday\n",
      "Thursday\n",
      "Friday\n",
      "Saturday\n",
      "Sunday\n"
     ]
    }
   ],
   "source": [
    "#W2A19\n",
    "print(\"\"\"Monday\n",
    "Tuesday\n",
    "Wednesday\n",
    "Thursday\n",
    "Friday\n",
    "Saturday\n",
    "Sunday\"\"\")"
   ]
  },
  {
   "cell_type": "code",
   "execution_count": null,
   "id": "9321847f-9ac3-49d1-8b6f-bdef8bbbefb7",
   "metadata": {},
   "outputs": [],
   "source": [
    "#W2A20\n",
    "print (\"\"\"January\n",
    "February\n",
    "March\n",
    "April\n",
    "May\n",
    "June\n",
    "July\n",
    "August\n",
    "September\n",
    "October\n",
    "November\n",
    "December\"\"\")"
   ]
  },
  {
   "cell_type": "code",
   "execution_count": 22,
   "id": "dc54b2cb-769c-4ac4-838b-c060e1e825ff",
   "metadata": {},
   "outputs": [
    {
     "name": "stdout",
     "output_type": "stream",
     "text": [
      "Hello, world\n",
      "Hello, world\n",
      "Hello, world\n",
      "Hello, world\n",
      "Hello, world\n",
      "Hello, world\n",
      "Hello, world\n",
      "Hello, world\n",
      "Hello, world\n",
      "Hello, world\n"
     ]
    }
   ],
   "source": [
    "#W2A21\n",
    "for i in range (10):\n",
    "    print(\"Hello, world\")\n"
   ]
  },
  {
   "cell_type": "code",
   "execution_count": null,
   "id": "6f4aca25-7507-49f6-aa8f-e4ac36be5f67",
   "metadata": {},
   "outputs": [],
   "source": []
  }
 ],
 "metadata": {
  "kernelspec": {
   "display_name": "Python 3 (ipykernel)",
   "language": "python",
   "name": "python3"
  },
  "language_info": {
   "codemirror_mode": {
    "name": "ipython",
    "version": 3
   },
   "file_extension": ".py",
   "mimetype": "text/x-python",
   "name": "python",
   "nbconvert_exporter": "python",
   "pygments_lexer": "ipython3",
   "version": "3.13.7"
  }
 },
 "nbformat": 4,
 "nbformat_minor": 5
}
