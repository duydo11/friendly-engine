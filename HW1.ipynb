{
 "cells": [
  {
   "cell_type": "code",
   "execution_count": null,
   "id": "3be23bef-3c75-4728-b94c-c78d6a89a531",
   "metadata": {},
   "outputs": [],
   "source": [
    "#bài 1\n",
    "a= int(input())\n",
    "print(a*2)"
   ]
  },
  {
   "cell_type": "code",
   "execution_count": 25,
   "id": "e173a936-54af-4088-a772-e8bad7892967",
   "metadata": {},
   "outputs": [
    {
     "name": "stdin",
     "output_type": "stream",
     "text": [
      " 2 4\n"
     ]
    },
    {
     "name": "stdout",
     "output_type": "stream",
     "text": [
      "4.86\n"
     ]
    }
   ],
   "source": [
    "#bai 2\n",
    "a,b= map(int, input().split())\n",
    "print(f\"{(a*b - (a/4*a)*3.14):.2f}\")"
   ]
  },
  {
   "cell_type": "code",
   "execution_count": 31,
   "id": "2498ce33-9ddc-4aea-9d7e-d4692414dc27",
   "metadata": {},
   "outputs": [
    {
     "name": "stdin",
     "output_type": "stream",
     "text": [
      " B\n"
     ]
    },
    {
     "name": "stdout",
     "output_type": "stream",
     "text": [
      "b\n"
     ]
    }
   ],
   "source": [
    "#bai 3\n",
    "a = str(input())\n",
    "val = ord(a)\n",
    "if ( 65<= val <= 90):\n",
    "    print (a.lower())\n",
    "else:\n",
    "    print (a.upper())"
   ]
  },
  {
   "cell_type": "code",
   "execution_count": 36,
   "id": "e6104d0a-68af-40b4-869e-aad8d306b679",
   "metadata": {},
   "outputs": [
    {
     "name": "stdin",
     "output_type": "stream",
     "text": [
      " 2\n"
     ]
    },
    {
     "name": "stdout",
     "output_type": "stream",
     "text": [
      "2 khong la ki tu alphabet\n"
     ]
    }
   ],
   "source": [
    "#bai 4\n",
    "a= input()\n",
    "val = ord(a)\n",
    "if (65 <= val <= 90 or 97<= val <=122):\n",
    "    print (a + \" la ki tu alphabet\")\n",
    "else:\n",
    "    print (a + \" khong la ki tu alphabet\")"
   ]
  },
  {
   "cell_type": "code",
   "execution_count": 41,
   "id": "9eda3b66-4b73-47ef-b945-53b1925bd1b8",
   "metadata": {},
   "outputs": [
    {
     "name": "stdin",
     "output_type": "stream",
     "text": [
      " D\n"
     ]
    },
    {
     "name": "stdout",
     "output_type": "stream",
     "text": [
      "c\n"
     ]
    }
   ],
   "source": [
    "#bai 5\n",
    "a= input()\n",
    "val = ord(a)\n",
    "print (chr(val+31))"
   ]
  },
  {
   "cell_type": "code",
   "execution_count": 56,
   "id": "7181d4df-8ecb-438c-a7fd-192ec0239810",
   "metadata": {},
   "outputs": [
    {
     "name": "stdin",
     "output_type": "stream",
     "text": [
      " 3 4 5\n"
     ]
    },
    {
     "name": "stdout",
     "output_type": "stream",
     "text": [
      "la 3 canh cua tam giac, dien tich la:  6.0\n"
     ]
    }
   ],
   "source": [
    "#bai 6\n",
    "import math\n",
    "a,b,c= map(int, input().split())\n",
    "p=(a + b + c) / 2\n",
    "if ( a+b > c and a+c>b and b+c>a):\n",
    "    print(\"la 3 canh cua tam giac, dien tich la: \",math.sqrt(p*(p - a)* (p - b)* (p - c)) )\n",
    "else: print (\"khong la 3 canh cua tam giac\")"
   ]
  },
  {
   "cell_type": "code",
   "execution_count": 69,
   "id": "31a22e95-e518-4c32-8f43-9ddc8f15530b",
   "metadata": {},
   "outputs": [
    {
     "name": "stdin",
     "output_type": "stream",
     "text": [
      " ưioajdawjdwaidwaj\n"
     ]
    },
    {
     "name": "stdout",
     "output_type": "stream",
     "text": [
      "j d\n"
     ]
    }
   ],
   "source": [
    "#bai 7\n",
    "a= str(input())\n",
    "a=list(a)\n",
    "print (a[4], a[8])"
   ]
  },
  {
   "cell_type": "code",
   "execution_count": 73,
   "id": "04d1d35a-2e38-4aaa-88d8-becb0e109b18",
   "metadata": {},
   "outputs": [
    {
     "name": "stdin",
     "output_type": "stream",
     "text": [
      "Ten chu ho:  a\n",
      "Chi so thang truoc:  2000\n",
      "Chi so thang nay:  2586\n"
     ]
    },
    {
     "name": "stdout",
     "output_type": "stream",
     "text": [
      "Ho va ten: a\n",
      "Tien phai tra la: 2189764.8000000003\n"
     ]
    }
   ],
   "source": [
    "#bai 8\n",
    "a=input(\"Ten chu ho: \")\n",
    "b=int(input(\"Chi so thang truoc: \"))\n",
    "c= int(input(\"Chi so thang nay: \"))\n",
    "val = c-b\n",
    "print (\"Ho va ten: \" + a)\n",
    "if (val <=50):\n",
    "    print (\"Tien phai tra la:\", val *1984*1.08)\n",
    "elif (51<= val <=100):\n",
    "    print (\"Tien phai tra la:\", val *2050*1.08)\n",
    "elif (100< val <=200):\n",
    "    print (\"Tien phai tra la:\", val *2380*1.08)\n",
    "elif (200< val <=300):\n",
    "    print (\"Tien phai tra la:\", val *2998*1.08)\n",
    "elif (300< val <=400):\n",
    "    print (\"Tien phai tra la:\", val *3350*1.08)\n",
    "elif (400< val):\n",
    "    print (\"Tien phai tra la:\", val *3460*1.08)"
   ]
  },
  {
   "cell_type": "code",
   "execution_count": null,
   "id": "e4a734b8-9f8c-4134-bbf9-53d95129b992",
   "metadata": {},
   "outputs": [],
   "source": []
  },
  {
   "cell_type": "code",
   "execution_count": null,
   "id": "810aac3f-2c65-4d85-abe0-ff7ca977cd2c",
   "metadata": {},
   "outputs": [],
   "source": []
  },
  {
   "cell_type": "code",
   "execution_count": 75,
   "id": "c9bd96cd-f107-4943-af96-f5dc46be4cae",
   "metadata": {},
   "outputs": [
    {
     "name": "stdin",
     "output_type": "stream",
     "text": [
      " 2\n"
     ]
    },
    {
     "name": "stdout",
     "output_type": "stream",
     "text": [
      "so chan\n"
     ]
    }
   ],
   "source": [
    "#bai tap khac\n",
    "#1\n",
    "a= int(input())\n",
    "if (a%2 ==0):\n",
    "    print(\"so chan\")\n",
    "else: print (\"so le\")"
   ]
  },
  {
   "cell_type": "code",
   "execution_count": 78,
   "id": "6cb54d9a-b3f0-41b1-b496-ad7dcb3a6cba",
   "metadata": {},
   "outputs": [
    {
     "name": "stdin",
     "output_type": "stream",
     "text": [
      " 15\n"
     ]
    },
    {
     "name": "stdout",
     "output_type": "stream",
     "text": [
      "co chu so tan cung la 5\n"
     ]
    }
   ],
   "source": [
    "#2\n",
    "a= int(input())\n",
    "if (a%5==0):print(\"co chu so tan cung la 5\")\n",
    "else: print (\"khong co chu so tan cung la 5\")"
   ]
  },
  {
   "cell_type": "code",
   "execution_count": 77,
   "id": "a82221db-e734-4011-a190-00c9857e65b6",
   "metadata": {},
   "outputs": [
    {
     "name": "stdin",
     "output_type": "stream",
     "text": [
      " 2\n"
     ]
    },
    {
     "name": "stdout",
     "output_type": "stream",
     "text": [
      "False\n"
     ]
    }
   ],
   "source": [
    "#3\n",
    "a= int(input())\n",
    "if (a%5 == 0 and a%3==0):print (\"True\")\n",
    "else: print (\"False\")"
   ]
  },
  {
   "cell_type": "code",
   "execution_count": 79,
   "id": "9c0d5714-094d-49ed-9b3e-b01f4c8a37ca",
   "metadata": {},
   "outputs": [
    {
     "name": "stdin",
     "output_type": "stream",
     "text": [
      " 2\n"
     ]
    },
    {
     "name": "stdout",
     "output_type": "stream",
     "text": [
      "du tuoi bau cu\n"
     ]
    }
   ],
   "source": [
    "#4\n",
    "a= int(input())\n",
    "if (2025-a >= 0): print(\"du tuoi bau cu\")\n",
    "else: print (\"chua du tuoi bau cu\")"
   ]
  },
  {
   "cell_type": "code",
   "execution_count": null,
   "id": "641544b2-27b3-47b8-8e24-c7bf51fe0b24",
   "metadata": {},
   "outputs": [],
   "source": [
    "#5\n",
    "a, b = map(int, input().split())\n",
    "if (a>b): print (a)\n",
    "elif(b>a): print (b)\n",
    "else: print (\" 2 so bang nhau \")"
   ]
  },
  {
   "cell_type": "code",
   "execution_count": null,
   "id": "30ee684d-f5e4-472b-9cae-fc41439bd2a8",
   "metadata": {},
   "outputs": [],
   "source": [
    "#6\n",
    "a= input()\n",
    "b= ord(a)\n",
    "if (65<= b <=90 and 97<=b<=122):\n",
    "    print(\"la chu cai\")\n",
    "else: print (\"la so\")\n"
   ]
  },
  {
   "cell_type": "code",
   "execution_count": 80,
   "id": "fe40426b-422c-4edb-b7c7-2a990f931b7d",
   "metadata": {},
   "outputs": [
    {
     "name": "stdin",
     "output_type": "stream",
     "text": [
      " 9\n"
     ]
    },
    {
     "name": "stdout",
     "output_type": "stream",
     "text": [
      "Giỏi\n"
     ]
    }
   ],
   "source": [
    "#7\n",
    "def hoc_luc(diem):\n",
    "    if diem >= 8:\n",
    "        return \"Giỏi\"\n",
    "    elif diem >= 6.5:\n",
    "        return \"Khá\"\n",
    "    elif diem >= 5:\n",
    "        return \"Trung bình\"\n",
    "    else:\n",
    "        return \"Yếu\"\n",
    "a= int(input())\n",
    "print (hoc_luc(a))"
   ]
  },
  {
   "cell_type": "code",
   "execution_count": null,
   "id": "b2729292-bf34-4673-8a63-c024d894d94b",
   "metadata": {},
   "outputs": [],
   "source": [
    "#8\n",
    "def yearcheck(nam):\n",
    "    if nam % 400 == 0 or (nam % 4 == 0 and nam % 100 != 0):\n",
    "        return \"Năm nhuận\"\n",
    "    else:\n",
    "        return \"Không phải năm nhuận\"\n",
    "a=int(input())\n",
    "print (yearcheck(a))\n"
   ]
  },
  {
   "cell_type": "code",
   "execution_count": null,
   "id": "7cd83d5f-e5ef-45e7-8e9c-925ee21201df",
   "metadata": {},
   "outputs": [],
   "source": [
    "#9\n"
   ]
  },
  {
   "cell_type": "code",
   "execution_count": null,
   "id": "c3e261c8-eb10-432f-9a25-410e7b817666",
   "metadata": {},
   "outputs": [],
   "source": [
    "#10\n",
    "def diem(diem):\n",
    "    return \"Qua môn\" if diem > 4 else \"Học lại\"\n",
    "a=int(input())\n",
    "print (diem(a))"
   ]
  },
  {
   "cell_type": "code",
   "execution_count": 81,
   "id": "7a5158ff-dc82-413b-a2a3-867aa5ae4834",
   "metadata": {},
   "outputs": [
    {
     "name": "stdin",
     "output_type": "stream",
     "text": [
      " 25\n"
     ]
    },
    {
     "name": "stdout",
     "output_type": "stream",
     "text": [
      "du 18 tuoi\n"
     ]
    }
   ],
   "source": [
    "#11\n",
    "a= int(input())\n",
    "if (2025-a >= 0): print(\"du 18 tuoi\")\n",
    "else: print (\"chua du 18 tuoi\")\n"
   ]
  }
 ],
 "metadata": {
  "kernelspec": {
   "display_name": "Python 3 (ipykernel)",
   "language": "python",
   "name": "python3"
  },
  "language_info": {
   "codemirror_mode": {
    "name": "ipython",
    "version": 3
   },
   "file_extension": ".py",
   "mimetype": "text/x-python",
   "name": "python",
   "nbconvert_exporter": "python",
   "pygments_lexer": "ipython3",
   "version": "3.13.7"
  }
 },
 "nbformat": 4,
 "nbformat_minor": 5
}
